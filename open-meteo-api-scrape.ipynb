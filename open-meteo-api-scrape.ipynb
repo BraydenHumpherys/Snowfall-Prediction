{
 "cells": [
  {
   "cell_type": "code",
   "execution_count": 1,
   "metadata": {},
   "outputs": [],
   "source": [
    "import pandas as pd\n",
    "import requests"
   ]
  },
  {
   "cell_type": "code",
   "execution_count": 27,
   "metadata": {},
   "outputs": [],
   "source": [
    "base_url = 'https://archive-api.open-meteo.com/'\n",
    "endpoint = 'v1/archive'\n",
    "params23_24 = {\n",
    "    'latitude': 40.5888,\n",
    "    'longitude': 111.6380,\n",
    "    'elevation': 8560,\n",
    "    'start_date': '2023-12-01',\n",
    "    'end_date': '2024-03-31',\n",
    "    'temperature_unit': 'fahrenheit',\n",
    "    'wind_speed_unit': 'mph',\n",
    "    'precipitation_unit': 'inch',\n",
    "    'daily': ['weather_code','temperature_2m_max','temperature_2m_min',\n",
    "               'temperature_2m_mean','apparent_temperature_max','apparent_temperature_min',\n",
    "               'apparent_temperature_mean','rain_sum','snowfall_sum','precipitation_hours',\n",
    "               'wind_speed_10m_max','wind_gusts_10m_max','wind_direction_10m_dominant',\n",
    "               'shortwave_radiation_sum','et0_fao_evapotranspiration'],\n",
    "    'timezone': 'MST'\n",
    "}\n",
    "response23_24 = requests.get(base_url + endpoint, params=params23_24)\n",
    "data23_24 = response23_24.json()\n",
    "OM_23_24 = data23_24['daily']\n",
    "df23_24 = pd.DataFrame(OM_23_24)\n",
    "df23_24.to_csv('OM_23_24.csv', index=False)"
   ]
  },
  {
   "cell_type": "code",
   "execution_count": 37,
   "metadata": {},
   "outputs": [],
   "source": [
    "params24_25 = {\n",
    "    'latitude': 40.5888,\n",
    "    'longitude': 111.6380,\n",
    "    'elevation': 8560,\n",
    "    'start_date': '2024-12-01',\n",
    "    'end_date': '2025-02-28',\n",
    "    'temperature_unit': 'fahrenheit',\n",
    "    'wind_speed_unit': 'mph',\n",
    "    'precipitation_unit': 'inch',\n",
    "    'daily': ['weather_code','temperature_2m_max','temperature_2m_min',\n",
    "               'temperature_2m_mean','apparent_temperature_max','apparent_temperature_min',\n",
    "               'apparent_temperature_mean','rain_sum','snowfall_sum','precipitation_hours',\n",
    "               'wind_speed_10m_max','wind_gusts_10m_max','wind_direction_10m_dominant',\n",
    "               'shortwave_radiation_sum','et0_fao_evapotranspiration'],\n",
    "    'timezone': 'MST'\n",
    "}\n",
    "response24_25 = requests.get(base_url + endpoint, params=params24_25)\n",
    "data24_25 = response24_25.json()\n",
    "OM_24_25 = data24_25['daily']\n",
    "df24_25 = pd.DataFrame(OM_24_25)\n",
    "df24_25.to_csv('OM_24_25.csv', index=False)"
   ]
  }
 ],
 "metadata": {
  "kernelspec": {
   "display_name": "env386",
   "language": "python",
   "name": "python3"
  },
  "language_info": {
   "codemirror_mode": {
    "name": "ipython",
    "version": 3
   },
   "file_extension": ".py",
   "mimetype": "text/x-python",
   "name": "python",
   "nbconvert_exporter": "python",
   "pygments_lexer": "ipython3",
   "version": "3.12.8"
  }
 },
 "nbformat": 4,
 "nbformat_minor": 2
}

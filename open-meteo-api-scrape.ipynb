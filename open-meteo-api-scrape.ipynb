{
 "cells": [
  {
   "cell_type": "code",
   "execution_count": 1,
   "metadata": {},
   "outputs": [],
   "source": [
    "import pandas as pd\n",
    "import requests"
   ]
  },
  {
   "cell_type": "code",
   "execution_count": 2,
   "metadata": {},
   "outputs": [],
   "source": [
    "base_url = 'https://archive-api.open-meteo.com/'\n",
    "endpoint = 'v1/archive'\n",
    "params = {\n",
    "    'latitude': 40.5888,\n",
    "    'longitude': 111.6380,\n",
    "    'elevation': 8560,\n",
    "    'start_date': '2023-12-01',\n",
    "    'end_date': '2024-03-31',\n",
    "    'temperature_unit': 'fahrenheit',\n",
    "    'wind_speed_unit': 'mph',\n",
    "    'precipitation_unit': 'inch',\n",
    "    'daily': ['weather_code','temperature_2m_max','temperature_2m_min',\n",
    "               'temperature_2m_mean','apparent_temperature_max','apparent_temperature_min',\n",
    "               'apparent_temperature_mean','rain_sum','snowfall_sum','precipitation_hours',\n",
    "               'wind_speed_10m_max','wind_gusts_10m_max','wind_direction_10m_dominant',\n",
    "               'shortwave_radiation_sum','et0_fao_evapotranspiration'],\n",
    "    'timezone': 'MST'\n",
    "}"
   ]
  },
  {
   "cell_type": "code",
   "execution_count": 3,
   "metadata": {},
   "outputs": [],
   "source": [
    "response = requests.get(base_url + endpoint, params=params)"
   ]
  },
  {
   "cell_type": "code",
   "execution_count": 4,
   "metadata": {},
   "outputs": [],
   "source": [
    "data = response.json()"
   ]
  },
  {
   "cell_type": "code",
   "execution_count": 16,
   "metadata": {},
   "outputs": [],
   "source": [
    "OM_23_24 = data['daily']"
   ]
  },
  {
   "cell_type": "code",
   "execution_count": 21,
   "metadata": {},
   "outputs": [
    {
     "data": {
      "text/plain": [
       "dict_keys(['time', 'weather_code', 'temperature_2m_max', 'temperature_2m_min', 'temperature_2m_mean', 'apparent_temperature_max', 'apparent_temperature_min', 'apparent_temperature_mean', 'rain_sum', 'snowfall_sum', 'precipitation_hours', 'wind_speed_10m_max', 'wind_gusts_10m_max', 'wind_direction_10m_dominant', 'shortwave_radiation_sum', 'et0_fao_evapotranspiration'])"
      ]
     },
     "execution_count": 21,
     "metadata": {},
     "output_type": "execute_result"
    }
   ],
   "source": [
    "OM_23_24.keys()"
   ]
  },
  {
   "cell_type": "code",
   "execution_count": 22,
   "metadata": {},
   "outputs": [],
   "source": [
    "df = pd.DataFrame(OM_23_24)"
   ]
  },
  {
   "cell_type": "code",
   "execution_count": 11,
   "metadata": {},
   "outputs": [],
   "source": [
    "vars = ['daily.time',\n",
    "       'daily.weather_code', 'daily.temperature_2m_max',\n",
    "       'daily.temperature_2m_min', 'daily.temperature_2m_mean',\n",
    "       'daily.apparent_temperature_max', 'daily.apparent_temperature_min',\n",
    "       'daily.apparent_temperature_mean', 'daily.rain_sum',\n",
    "       'daily.snowfall_sum', 'daily.precipitation_hours',\n",
    "       'daily.wind_speed_10m_max', 'daily.wind_gusts_10m_max',\n",
    "       'daily.wind_direction_10m_dominant', 'daily.shortwave_radiation_sum',\n",
    "       'daily.et0_fao_evapotranspiration']"
   ]
  },
  {
   "cell_type": "code",
   "execution_count": 25,
   "metadata": {},
   "outputs": [],
   "source": [
    "df.to_csv('OM_23_24.csv', index=False)"
   ]
  }
 ],
 "metadata": {
  "kernelspec": {
   "display_name": "env386",
   "language": "python",
   "name": "python3"
  },
  "language_info": {
   "codemirror_mode": {
    "name": "ipython",
    "version": 3
   },
   "file_extension": ".py",
   "mimetype": "text/x-python",
   "name": "python",
   "nbconvert_exporter": "python",
   "pygments_lexer": "ipython3",
   "version": "3.12.8"
  }
 },
 "nbformat": 4,
 "nbformat_minor": 2
}
